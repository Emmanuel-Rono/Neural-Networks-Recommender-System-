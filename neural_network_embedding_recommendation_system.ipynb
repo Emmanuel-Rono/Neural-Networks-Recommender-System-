{
  "cells": [
    {
      "cell_type": "markdown",
      "source": [
        "# Introduction: Book Recommendation System\n",
        "\n",
        "In this notebook, i will build a book recommendation system based on a simple principle: books with Wikipedia pages that link to similar Wikipedia pages are similar to each other. In order to create this representation of similar books, i'll use the concept of neural network entity embeddings, mapping each book and each Wikipedia link (Wikilink) to a 50-number vector.\n",
        "\n"
      ],
      "metadata": {
        "id": "vsac30pB_nwk"
      }
    },
    {
      "metadata": {
        "_uuid": "93cce3b8e313efcbdba0a42810013414289a77a6",
        "id": "PBF4QjFJO0b5"
      },
      "cell_type": "markdown",
      "source": [
        "## Read in Data\n",
        "\n",
        "The data is stored as json with line for every book. This data contains every single book article on Wikipedia which was parsed in the [Downloading and Parsing Wikipedia Data Notebook](https://github.com/WillKoehrsen/wikipedia-data-science/blob/master/Downloading%20and%20Parsing%20Wikipedia%20Articles.ipynb)."
      ]
    },
    {
      "metadata": {
        "trusted": false,
        "_uuid": "78572cfaad5f9c96aa4e55416b3a5906de0c951e",
        "id": "Xp0G6LZLO0b6"
      },
      "cell_type": "code",
      "source": [
        "from IPython.core.interactiveshell import InteractiveShell\n",
        "\n",
        "# Set shell to show all lines of output\n",
        "InteractiveShell.ast_node_interactivity = 'all'"
      ],
      "execution_count": null,
      "outputs": []
    },
    {
      "metadata": {
        "trusted": false,
        "_uuid": "cb43833559ff4a2cc77795ed9306f039eedc0018",
        "colab": {
          "base_uri": "https://localhost:8080/"
        },
        "id": "cuuqB0vmO0b8",
        "outputId": "860954cb-f615-47ad-be4d-3c77e3084b70"
      },
      "cell_type": "code",
      "source": [
        "from keras.utils import get_file\n",
        "\n",
        "x = get_file('found_books_filtered.ndjson', 'https://raw.githubusercontent.com/WillKoehrsen/wikipedia-data-science/master/data/found_books_filtered.ndjson')\n",
        "\n",
        "import json\n",
        "\n",
        "books = []\n",
        "\n",
        "with open(x, 'r') as fin:\n",
        "    # Append each line to the books\n",
        "    books = [json.loads(l) for l in fin]\n",
        "\n",
        "# Remove non-book articles\n",
        "books_with_wikipedia = [book for book in books if 'Wikipedia:' in book[0]]\n",
        "books = [book for book in books if 'Wikipedia:' not in book[0]]\n",
        "print(f'Found {len(books)} books.')"
      ],
      "execution_count": null,
      "outputs": [
        {
          "output_type": "stream",
          "name": "stdout",
          "text": [
            "Downloading data from https://raw.githubusercontent.com/WillKoehrsen/wikipedia-data-science/master/data/found_books_filtered.ndjson\n",
            "\u001b[1m58925764/58925764\u001b[0m \u001b[32m━━━━━━━━━━━━━━━━━━━━\u001b[0m\u001b[37m\u001b[0m \u001b[1m0s\u001b[0m 0us/step\n",
            "Found 37020 books.\n"
          ]
        }
      ]
    },
    {
      "metadata": {
        "_uuid": "955851c086217e4fea5308435b737691dffdd8e6",
        "id": "ncnPxEdWO0b8"
      },
      "cell_type": "markdown",
      "source": [
        "###Data Cleaning\n",
        "Some non-book articles were included in the dataset and need to be removed.\n",
        "\n"
      ]
    },
    {
      "metadata": {
        "trusted": false,
        "_uuid": "cea7f5c3cfd879435ce43295f4c6ebac0e306d45",
        "colab": {
          "base_uri": "https://localhost:8080/"
        },
        "id": "g6GavUcHO0b9",
        "outputId": "87035446-4c81-4669-e187-47010d0919ad"
      },
      "cell_type": "code",
      "source": [
        "[book[0] for book in books_with_wikipedia][:5]"
      ],
      "execution_count": null,
      "outputs": [
        {
          "output_type": "execute_result",
          "data": {
            "text/plain": [
              "['Wikipedia:Wikipedia Signpost/2014-06-25/Recent research',\n",
              " 'Wikipedia:New pages patrol/Unpatrolled articles/December 2010',\n",
              " 'Wikipedia:Templates for discussion/Log/2012 September 23',\n",
              " 'Wikipedia:Articles for creation/Redirects/2012-10',\n",
              " 'Wikipedia:Templates for discussion/Log/2012 October 4']"
            ]
          },
          "metadata": {},
          "execution_count": 10
        }
      ]
    },
    {
      "metadata": {
        "_uuid": "2130f3994a027a3c30b1e1415d147098594d407f",
        "id": "oYTZU1IWO0b-"
      },
      "cell_type": "markdown",
      "source": [
        "Each book entry includes title, Infobox book data, internal and external Wikipedia links, last edit date, and article length (estimated by character count).\n",
        "\n",
        "\n",
        "\n"
      ]
    },
    {
      "metadata": {
        "trusted": false,
        "_uuid": "a508cf9f25a188b96254d14f811f0ed47360221e",
        "colab": {
          "base_uri": "https://localhost:8080/"
        },
        "id": "Oq_QQt2gO0b-",
        "outputId": "30c2006f-e440-4b31-f924-d9cca578ee3c"
      },
      "cell_type": "code",
      "source": [
        "n = 21\n",
        "books[n][0], books[n][1], books[n][2][:5], books[n][3][:5], books[n][3][:5], books[n][4], books[n][5]"
      ],
      "execution_count": null,
      "outputs": [
        {
          "output_type": "execute_result",
          "data": {
            "text/plain": [
              "('Limonov (novel)',\n",
              " {'name': 'Limonov',\n",
              "  'author': 'Emmanuel Carrère',\n",
              "  'translator': 'John Lambert',\n",
              "  'country': 'France',\n",
              "  'language': 'French',\n",
              "  'publisher': 'P.O.L.',\n",
              "  'pub_date': '2011',\n",
              "  'english_pub_date': '2014',\n",
              "  'pages': '488',\n",
              "  'isbn': '978-2-8180-1405-9'},\n",
              " ['Emmanuel Carrère',\n",
              "  'biographical novel',\n",
              "  'Emmanuel Carrère',\n",
              "  'Eduard Limonov',\n",
              "  'Prix de la langue française'],\n",
              " ['http://www.lefigaro.fr/flash-actu/2011/10/05/97001-20111005FILWWW00615-le-prix-de-la-langue-francaise-a-e-carrere.php',\n",
              "  'http://www.lexpress.fr/culture/livre/emmanuel-carrere-prix-renaudot-2011_1046819.html',\n",
              "  'http://limonow.de/carrere/index.html',\n",
              "  'http://www.tout-sur-limonov.fr/222318809'],\n",
              " ['http://www.lefigaro.fr/flash-actu/2011/10/05/97001-20111005FILWWW00615-le-prix-de-la-langue-francaise-a-e-carrere.php',\n",
              "  'http://www.lexpress.fr/culture/livre/emmanuel-carrere-prix-renaudot-2011_1046819.html',\n",
              "  'http://limonow.de/carrere/index.html',\n",
              "  'http://www.tout-sur-limonov.fr/222318809'],\n",
              " '2018-08-18T02:03:21Z',\n",
              " 1437)"
            ]
          },
          "metadata": {},
          "execution_count": 11
        }
      ]
    },
    {
      "metadata": {
        "_uuid": "c2a4c2e80cb48b1524129d46a9109d6058a05d8c",
        "id": "E7JgCXBGO0cA"
      },
      "cell_type": "markdown",
      "source": [
        "This project  will only use the wikilinks, which are saved as the third element (index 2) for each book.\n",
        "\n",
        "> Add blockquote\n",
        "\n"
      ]
    },
    {
      "metadata": {
        "_uuid": "0a1222bdb60409938d2fb7de01f691edc4ec58db",
        "id": "d0gPr28cO0cB"
      },
      "cell_type": "markdown",
      "source": [
        "## Map Books to Integers\n",
        "\n",
        "To facilitate neural network processing, book titles are mapped to unique integer IDs. This mapping allows for efficient representation and retrieval of book information. A reverse mapping from integers back to titles is also created."
      ]
    },
    {
      "metadata": {
        "trusted": false,
        "_uuid": "bb6d85f58f57e5403468e826a764bfaef20a78a1",
        "colab": {
          "base_uri": "https://localhost:8080/",
          "height": 53
        },
        "id": "bwrRV1rvO0cB",
        "outputId": "ae977cd4-740a-4ef6-fb1d-26f9c51d9368"
      },
      "cell_type": "code",
      "source": [
        "book_index = {book[0]: idx for idx, book in enumerate(books)}\n",
        "index_book = {idx: book for book, idx in book_index.items()}\n",
        "\n",
        "book_index['Anna Karenina']\n",
        "index_book[22494]"
      ],
      "execution_count": null,
      "outputs": [
        {
          "output_type": "execute_result",
          "data": {
            "text/plain": [
              "22494"
            ]
          },
          "metadata": {},
          "execution_count": 12
        },
        {
          "output_type": "execute_result",
          "data": {
            "text/plain": [
              "'Anna Karenina'"
            ],
            "application/vnd.google.colaboratory.intrinsic+json": {
              "type": "string"
            }
          },
          "metadata": {},
          "execution_count": 12
        }
      ]
    },
    {
      "metadata": {
        "_uuid": "856072431f62f74a35f59a85749f405f99b37245",
        "id": "Dlo240NtO0cC"
      },
      "cell_type": "markdown",
      "source": [
        "### Exploring Wikilinks\n",
        "\n",
        "Before proceeding with the main task, a brief exploration of the wikilinks is conducted. This involves identifying the number of unique wikilinks and their frequency distribution using the itertools chain method for list flattening."
      ]
    },
    {
      "metadata": {
        "trusted": false,
        "_uuid": "19411f3b2dc23b4b4f750bf8e1a53b4372d7bed7",
        "colab": {
          "base_uri": "https://localhost:8080/"
        },
        "id": "-OHr6IjRO0cE",
        "outputId": "d8b75f83-9b48-4513-d102-42a68cfc4684"
      },
      "cell_type": "code",
      "source": [
        "from itertools import chain\n",
        "\n",
        "wikilinks = list(chain(*[book[2] for book in books]))\n",
        "print(f\"There are {len(set(wikilinks))} unique wikilinks.\")"
      ],
      "execution_count": null,
      "outputs": [
        {
          "output_type": "stream",
          "name": "stdout",
          "text": [
            "There are 311276 unique wikilinks.\n"
          ]
        }
      ]
    },
    {
      "metadata": {
        "_uuid": "ae91bdee0c7ebdef195822c7badaec4853193553",
        "id": "u_Kpa7cDO0cE"
      },
      "cell_type": "markdown",
      "source": [
        "How many of these are links to other books?"
      ]
    },
    {
      "metadata": {
        "trusted": false,
        "_uuid": "b74f11f24df6ffeea3b6949b06872c249a85c390",
        "colab": {
          "base_uri": "https://localhost:8080/"
        },
        "id": "2M8lL6hNO0cF",
        "outputId": "20baf70e-c53b-48b6-ab70-d6b4bc1d06f6"
      },
      "cell_type": "code",
      "source": [
        "wikilinks_other_books = [link for link in wikilinks if link in book_index.keys()]\n",
        "print(f\"There are {len(set(wikilinks_other_books))} unique wikilinks to other books.\")"
      ],
      "execution_count": null,
      "outputs": [
        {
          "output_type": "stream",
          "name": "stdout",
          "text": [
            "There are 17032 unique wikilinks to other books.\n"
          ]
        }
      ]
    },
    {
      "metadata": {
        "_uuid": "eda3e581a613cf094bc415e219d697e9f1cadeb3",
        "id": "LKop_8jdO0cG"
      },
      "cell_type": "markdown",
      "source": [
        "### Most Linked-to Articles\n",
        "\n",
        "This section identifies the Wikipedia pages most frequently linked to by books in the dataset. A utility function is defined to count the occurrences of each link, utilizing the collections module for efficient data handling."
      ]
    },
    {
      "metadata": {
        "trusted": false,
        "_uuid": "44b0a6e3313ff37d39629bde897c4c422c23ebd4",
        "id": "XewqL3r2O0cH"
      },
      "cell_type": "code",
      "source": [
        "from collections import Counter, OrderedDict\n",
        "\n",
        "def count_items(l):\n",
        "    \"\"\"Return ordered dictionary of counts of objects in `l`\"\"\"\n",
        "\n",
        "    # Create a counter object\n",
        "    counts = Counter(l)\n",
        "\n",
        "    # Sort by highest count first and place in ordered dictionary\n",
        "    counts = sorted(counts.items(), key = lambda x: x[1], reverse = True)\n",
        "    counts = OrderedDict(counts)\n",
        "\n",
        "    return counts"
      ],
      "execution_count": null,
      "outputs": []
    },
    {
      "metadata": {
        "_uuid": "9a9b08ce86d0b45297256e128017576825bd4078",
        "id": "mScbeJMSO0cH"
      },
      "cell_type": "markdown",
      "source": [
        "To avoid duplicate counts, only unique wikilinks from each book are considered. This involves creating a set of links for each book, flattening the resulting list of sets into a single list, and then utilizing the count_items function to determine the frequency of each link."
      ]
    },
    {
      "metadata": {
        "trusted": false,
        "_uuid": "326e515d0eb9d2b2c78798faa3225dd2fb1cc55d",
        "colab": {
          "base_uri": "https://localhost:8080/"
        },
        "id": "Dt1cFJxxO0cI",
        "outputId": "ed0f4649-8b1c-4cea-a435-70ed49f15814"
      },
      "cell_type": "code",
      "source": [
        "# Find set of wikilinks for each book and convert to a flattened list\n",
        "unique_wikilinks = list(chain(*[list(set(book[2])) for book in books]))\n",
        "\n",
        "wikilink_counts = count_items(unique_wikilinks)\n",
        "list(wikilink_counts.items())[:10]"
      ],
      "execution_count": null,
      "outputs": [
        {
          "output_type": "execute_result",
          "data": {
            "text/plain": [
              "[('Hardcover', 7489),\n",
              " ('Paperback', 7311),\n",
              " ('Wikipedia:WikiProject Books', 6043),\n",
              " ('Wikipedia:WikiProject Novels', 6015),\n",
              " ('English language', 4185),\n",
              " ('United States', 3060),\n",
              " ('Science fiction', 3030),\n",
              " ('The New York Times', 2727),\n",
              " ('science fiction', 2502),\n",
              " ('novel', 1979)]"
            ]
          },
          "metadata": {},
          "execution_count": 16
        }
      ]
    },
    {
      "metadata": {
        "_uuid": "3ccfc5d64b0f2941ef5a6d5bea459e991efed71d",
        "id": "HtxGdbpTO0cJ"
      },
      "cell_type": "markdown",
      "source": [
        "Analysis of the most frequently linked pages reveals expected results. However, inconsistencies in capitalization are observed. To address this, all links are converted to lowercase, and the frequency counts are recalculated."
      ]
    },
    {
      "metadata": {
        "trusted": false,
        "_uuid": "40a1e6b9e7a77e17721b5ff092d7f6fbb6219692",
        "colab": {
          "base_uri": "https://localhost:8080/"
        },
        "id": "QDJG_yjTO0cJ",
        "outputId": "a2b72aca-1c62-4b8a-fa6f-2a615ec5118f"
      },
      "cell_type": "code",
      "source": [
        "wikilinks = [link.lower() for link in unique_wikilinks]\n",
        "print(f\"There are {len(set(wikilinks))} unique wikilinks.\")\n",
        "\n",
        "wikilink_counts = count_items(wikilinks)\n",
        "list(wikilink_counts.items())[:10]"
      ],
      "execution_count": null,
      "outputs": [
        {
          "output_type": "stream",
          "name": "stdout",
          "text": [
            "There are 297624 unique wikilinks.\n"
          ]
        },
        {
          "output_type": "execute_result",
          "data": {
            "text/plain": [
              "[('paperback', 8740),\n",
              " ('hardcover', 8648),\n",
              " ('wikipedia:wikiproject books', 6043),\n",
              " ('wikipedia:wikiproject novels', 6016),\n",
              " ('science fiction', 5665),\n",
              " ('english language', 4248),\n",
              " ('united states', 3063),\n",
              " ('novel', 2983),\n",
              " ('the new york times', 2742),\n",
              " ('fantasy', 2003)]"
            ]
          },
          "metadata": {},
          "execution_count": 17
        }
      ]
    },
    {
      "cell_type": "markdown",
      "source": [
        "The normalization process significantly impacts the link rankings, highlighting the importance of data preprocessing before model training."
      ],
      "metadata": {
        "id": "n5hJ8LrrDt4W"
      }
    },
    {
      "metadata": {
        "_uuid": "28d62ed125faf076c6ee7d6b6bd053c27c5af2ef",
        "id": "T8vINdRTO0cK"
      },
      "cell_type": "markdown",
      "source": [
        "\n",
        "\n",
        "#### Remove Most Popular Wikilinks\n",
        "\n",
        "Common wikilinks, such as those indicating book format (e.g., hardcover, paperback) or Wikipedia project pages, are removed as they provide limited information for content-based recommendations. .\n",
        "\n",
        "(This step is similar to the idea of [TF-IDF (Term Frequency Inverse Document Frequency](http://www.tfidf.com/). When dealing with words in documents, the words that appear most often across documents are usually not that helpful because they don't distinguish documents. TF-IDF is a way to weight a word higher for appearing more often within an article but decrease the weighting for a word appearing more often between articles.)"
      ]
    },
    {
      "metadata": {
        "trusted": false,
        "_uuid": "fb5e29b27f08db36885b5540ba7d4bdb470f0e7a",
        "id": "Nsd9w1XCO0cK"
      },
      "cell_type": "code",
      "source": [
        "to_remove = ['hardcover', 'paperback', 'hardback', 'e-book', 'wikipedia:wikiproject books', 'wikipedia:wikiproject novels']\n",
        "for t in to_remove:\n",
        "    wikilinks.remove(t)\n",
        "    _ = wikilink_counts.pop(t)"
      ],
      "execution_count": null,
      "outputs": []
    },
    {
      "metadata": {
        "_uuid": "d2defc712c15eb81008b9a5491b7b7720651b18a",
        "id": "lnwl7xLiO0cL"
      },
      "cell_type": "markdown",
      "source": [
        "To reduce noise and computational complexity, only wikilinks appearing at least four times are retained for further analysis. This thresholding helps mitigate the impact of infrequent links while maintaining a reasonable training time for the model. Further experimentation with this parameter may be beneficial for optimizing performance."
      ]
    },
    {
      "metadata": {
        "trusted": false,
        "_uuid": "9e9082e9f2a3846488739aee5d74f5cf5cabf936",
        "colab": {
          "base_uri": "https://localhost:8080/"
        },
        "id": "WFju2WRGO0cL",
        "outputId": "a0e93535-32f8-46fb-d55b-c2af87c7b7e0"
      },
      "cell_type": "code",
      "source": [
        "# Limit to greater than 3 links\n",
        "links = [t[0] for t in wikilink_counts.items() if t[1] >= 4]\n",
        "print(len(links))"
      ],
      "execution_count": null,
      "outputs": [
        {
          "output_type": "stream",
          "name": "stdout",
          "text": [
            "41758\n"
          ]
        }
      ]
    },
    {
      "metadata": {
        "_uuid": "b13381b92b1f838c7857194035105fd8472b1b7f",
        "id": "1m2o4iaGO0cM"
      },
      "cell_type": "markdown",
      "source": [
        "#### Most Linked-to Books\n",
        "\n",
        "This section examines the books most frequently linked to by other books within the dataset. To ensure accurate counts, only unique links to other books are considered, avoiding multiple counts for repeated links.\n",
        "\n"
      ]
    },
    {
      "metadata": {
        "trusted": false,
        "_uuid": "23d89202d24dac576fdfa3aef252b9b7a6b604c3",
        "colab": {
          "base_uri": "https://localhost:8080/"
        },
        "id": "ItT16oteO0cM",
        "outputId": "edcbb37e-a7bd-4ed5-fde5-8ccaadafd2a3"
      },
      "cell_type": "code",
      "source": [
        "# Find set of book wikilinks for each book\n",
        "unique_wikilinks_books = list(chain(*[list(set(link for link in book[2] if link in book_index.keys())) for book in books]))\n",
        "\n",
        "# Count the number of books linked to by other books\n",
        "wikilink_book_counts = count_items(unique_wikilinks_books)\n",
        "list(wikilink_book_counts.items())[:10]"
      ],
      "execution_count": null,
      "outputs": [
        {
          "output_type": "execute_result",
          "data": {
            "text/plain": [
              "[('The Encyclopedia of Science Fiction', 127),\n",
              " ('The Discontinuity Guide', 104),\n",
              " ('The Encyclopedia of Fantasy', 63),\n",
              " ('Dracula', 55),\n",
              " ('Encyclopædia Britannica', 51),\n",
              " ('Nineteen Eighty-Four', 51),\n",
              " ('Don Quixote', 49),\n",
              " ('The Wonderful Wizard of Oz', 49),\n",
              " (\"Alice's Adventures in Wonderland\", 47),\n",
              " ('Jane Eyre', 39)]"
            ]
          },
          "metadata": {},
          "execution_count": 20
        }
      ]
    },
    {
      "metadata": {
        "_uuid": "2fa640479eb7d3e2d8dc2a7865f8681102e4a53f",
        "id": "qoU2EiewO0cM"
      },
      "cell_type": "markdown",
      "source": [
        "It's not surprising that several of these are references. We also see that a few classics make it into the list!\n",
        "\n",
        "### Additional Cleaning\n",
        "\n",
        "Further data cleaning could involve consolidating link entities with minor variations (e.g., capitalization differences) to improve accuracy. While manual inspection and consolidation may be time-consuming, it could enhance the quality of the embeddings. However, the current embeddings performed well without this additional step."
      ]
    },
    {
      "metadata": {
        "trusted": false,
        "_uuid": "7b2b0ea7b1f9c90c93e21c354edcbfea4c4bc866",
        "colab": {
          "base_uri": "https://localhost:8080/"
        },
        "id": "7MmDMLYBO0cN",
        "outputId": "9393ca1b-dfdf-4720-d10f-3399e507080a"
      },
      "cell_type": "code",
      "source": [
        "for book in books:\n",
        "    if 'The New York Times' in book[2] and 'New York Times' in book[2]:\n",
        "        print(book[0], book[2])\n",
        "        break"
      ],
      "execution_count": null,
      "outputs": [
        {
          "output_type": "stream",
          "name": "stdout",
          "text": [
            "The Big Picture: Who Killed Hollywood? and Other Essays ['Wikipedia:WikiProject Novels', 'Wikipedia:WikiProject Books', 'William Goldman', 'United States', 'English language', 'William Goldman', 'Michael Sragow', 'Good Will Hunting', 'Robin Williams', 'Matt Damon', 'The New York Times', 'The New York Times Company', 'New York Times', 'Category:Cinema of the United States', 'Category:Film production', 'Category:2000 books', 'Category:Books about films', 'Category:Books by William Goldman', 'Category:Show business memoirs']\n"
          ]
        }
      ]
    },
    {
      "metadata": {
        "trusted": false,
        "_uuid": "b2d3e0b0fe304530b61bcd128e3c0c5e88c1c235",
        "colab": {
          "base_uri": "https://localhost:8080/"
        },
        "id": "36uz2SFaO0cN",
        "outputId": "866fe769-60b0-4587-d186-7e243f7fdd7b"
      },
      "cell_type": "code",
      "source": [
        "wikilink_counts.get('the new york times')\n",
        "wikilink_counts.get('new york times')"
      ],
      "execution_count": null,
      "outputs": [
        {
          "output_type": "execute_result",
          "data": {
            "text/plain": [
              "2742"
            ]
          },
          "metadata": {},
          "execution_count": 22
        },
        {
          "output_type": "execute_result",
          "data": {
            "text/plain": [
              "996"
            ]
          },
          "metadata": {},
          "execution_count": 22
        }
      ]
    },
    {
      "metadata": {
        "_uuid": "6a9afb8bece32a86e5ca683cbe79653dd89208a5",
        "id": "tX4Jp5PVO0cO"
      },
      "cell_type": "markdown",
      "source": [
        "## Wikilinks to Index\n",
        "\n",
        "Similar to the book mapping, wikilinks are also assigned unique integer IDs for efficient processing. A reverse mapping is created to facilitate retrieval of the original wikilink from its integer representation."
      ]
    },
    {
      "metadata": {
        "trusted": false,
        "_uuid": "acc684534675c53a250f420482fbdc9aa80a5170",
        "colab": {
          "base_uri": "https://localhost:8080/",
          "height": 70
        },
        "id": "13Ic14p3O0cO",
        "outputId": "2b757ab8-5c6d-4cf0-f974-8879b0c93b64"
      },
      "cell_type": "code",
      "source": [
        "link_index = {link: idx for idx, link in enumerate(links)}\n",
        "index_link = {idx: link for link, idx in link_index.items()}\n",
        "\n",
        "link_index['the economist']\n",
        "index_link[300]\n",
        "print(f'There are {len(link_index)} wikilinks that will be used.')"
      ],
      "execution_count": null,
      "outputs": [
        {
          "output_type": "execute_result",
          "data": {
            "text/plain": [
              "300"
            ]
          },
          "metadata": {},
          "execution_count": 23
        },
        {
          "output_type": "execute_result",
          "data": {
            "text/plain": [
              "'the economist'"
            ],
            "application/vnd.google.colaboratory.intrinsic+json": {
              "type": "string"
            }
          },
          "metadata": {},
          "execution_count": 23
        },
        {
          "output_type": "stream",
          "name": "stdout",
          "text": [
            "There are 41758 wikilinks that will be used.\n"
          ]
        }
      ]
    },
    {
      "cell_type": "code",
      "source": [],
      "metadata": {
        "id": "cgAkiE-Oi3E0"
      },
      "execution_count": null,
      "outputs": []
    },
    {
      "metadata": {
        "_uuid": "fc13ac8e153646a662713ca6719c5ff71dc0b3f3",
        "id": "a6gUhVQLO0cP"
      },
      "cell_type": "markdown",
      "source": [
        "# Supervised Machine Learning Task\n",
        "\n",
        "With the data cleaned, the next step involves establishing a supervised machine learning task to train the embedding neural network. The task is defined as follows: given a book title and a wikilink, predict whether the link is present within the book's article.\n",
        "\n",
        "## Build a Training Set\n",
        "\n",
        "A training set is essential for machine learning models. In this supervised learning approach, the model is trained to predict the legitimacy of a (book, wikilink) pair, indicating whether the link is present in the book's article. The training set is constructed by iterating through each book and recording all (book, wikilink) pairs found within the dataset."
      ]
    },
    {
      "metadata": {
        "trusted": false,
        "_uuid": "ff88918004784cd4255a5d94cb34de4e61096b12",
        "id": "FxZATOr7O0cP",
        "colab": {
          "base_uri": "https://localhost:8080/"
        },
        "outputId": "c72b341d-15d2-4ed9-d2f2-087eeb6d6ed5"
      },
      "cell_type": "code",
      "source": [
        "pairs = []\n",
        "\n",
        "# Iterate through each book\n",
        "for book in books:\n",
        "    # Iterate through the links in the book\n",
        "    pairs.extend((book_index[book[0]], link_index[link.lower()]) for link in book[2] if link.lower() in links)\n",
        "\n",
        "len(pairs), len(links), len(books)\n",
        "pairs[5000]"
      ],
      "execution_count": null,
      "outputs": [
        {
          "output_type": "execute_result",
          "data": {
            "text/plain": [
              "(772798, 41758, 37020)"
            ]
          },
          "metadata": {},
          "execution_count": 25
        },
        {
          "output_type": "execute_result",
          "data": {
            "text/plain": [
              "(321, 232)"
            ]
          },
          "metadata": {},
          "execution_count": 25
        }
      ]
    },
    {
      "metadata": {
        "_uuid": "b9e639d682bb78a3e6a67887b613d88f6548ff1c",
        "id": "okAIoLp0O0cP"
      },
      "cell_type": "markdown",
      "source": [
        "We now have over 770,000 positive examples on which to train! Each pair represents one Wikilink for one book. Let's look at a few examples."
      ]
    },
    {
      "metadata": {
        "trusted": false,
        "_uuid": "8e9e7d06c1345baed0ea6951fc76a1be904a724f",
        "id": "ksml9zskO0cQ",
        "colab": {
          "base_uri": "https://localhost:8080/"
        },
        "outputId": "811e9330-eb51-449e-adfe-365df5b97d80"
      },
      "cell_type": "code",
      "source": [
        "index_book[pairs[5000][0]], index_link[pairs[5000][1]]"
      ],
      "execution_count": null,
      "outputs": [
        {
          "output_type": "execute_result",
          "data": {
            "text/plain": [
              "('Slaves in the Family', 'category:american biographies')"
            ]
          },
          "metadata": {},
          "execution_count": 26
        }
      ]
    },
    {
      "metadata": {
        "trusted": false,
        "_uuid": "ea09f6b98c2312bbb545c518b02f3ebcee06181f",
        "id": "wub79w5HO0cQ",
        "colab": {
          "base_uri": "https://localhost:8080/"
        },
        "outputId": "0371e752-c0e3-40c1-bf41-918cd4fa5c2a"
      },
      "cell_type": "code",
      "source": [
        "index_book[pairs[900][0]], index_link[pairs[900][1]]"
      ],
      "execution_count": null,
      "outputs": [
        {
          "output_type": "execute_result",
          "data": {
            "text/plain": [
              "('The Man Who Watched the Trains Go By (novel)',\n",
              " 'category:belgian novels adapted into films')"
            ]
          },
          "metadata": {},
          "execution_count": 27
        }
      ]
    },
    {
      "metadata": {
        "_uuid": "70a90168199d4830170cb5ddba4965a315831cac",
        "id": "ZiEB7WGnO0cR"
      },
      "cell_type": "markdown",
      "source": [
        "Later on we'll create the negative examples by randomly sampling from the links and the books and making sure the resulting pair is not in `pairs`."
      ]
    },
    {
      "metadata": {
        "trusted": false,
        "_uuid": "d063b874147568c513877dc1ba849bc5a42ce5fb",
        "id": "G98Kf_laO0cR"
      },
      "cell_type": "code",
      "source": [
        "pairs_set = set(pairs)"
      ],
      "execution_count": null,
      "outputs": []
    },
    {
      "metadata": {
        "_uuid": "74dc31daa561f283f903ecd2dd2626cae0c2ad6c",
        "id": "RN7R6CdfO0cT"
      },
      "cell_type": "markdown",
      "source": [
        "Just for fun, let's look at the (book, link) pairs that are represented most often in the data."
      ]
    },
    {
      "metadata": {
        "trusted": false,
        "_uuid": "4f15718295aeca7d4e6bd3bed6f1ec5656f0bff7",
        "id": "c0Zf9pJvO0cU",
        "colab": {
          "base_uri": "https://localhost:8080/"
        },
        "outputId": "4d163ba1-d0f3-487d-c9ce-9e54e98c9a15"
      },
      "cell_type": "code",
      "source": [
        "x = Counter(pairs)\n",
        "sorted(x.items(), key = lambda x: x[1], reverse = True)[:5]"
      ],
      "execution_count": null,
      "outputs": [
        {
          "output_type": "execute_result",
          "data": {
            "text/plain": [
              "[((13337, 31111), 85),\n",
              " ((31899, 65), 77),\n",
              " ((25899, 8850), 61),\n",
              " ((1851, 2629), 57),\n",
              " ((25899, 30465), 53)]"
            ]
          },
          "metadata": {},
          "execution_count": 29
        }
      ]
    },
    {
      "metadata": {
        "trusted": false,
        "_uuid": "a72b3aed402a9e23acd18288dbb0d40a3f69a436",
        "id": "TwQN8NQqO0cV",
        "colab": {
          "base_uri": "https://localhost:8080/"
        },
        "outputId": "6d1b2c0d-e524-48fd-c573-d548b227d427"
      },
      "cell_type": "code",
      "source": [
        "index_book[13337], index_link[31111]\n",
        "index_book[31899], index_link[65]\n",
        "index_book[25899], index_link[30465]"
      ],
      "execution_count": null,
      "outputs": [
        {
          "output_type": "execute_result",
          "data": {
            "text/plain": [
              "(\"France's Songs of the Bards of the Tyne - 1850\", 'joseph philip robson')"
            ]
          },
          "metadata": {},
          "execution_count": 30
        },
        {
          "output_type": "execute_result",
          "data": {
            "text/plain": [
              "('The Early Stories: 1953–1975', 'the new yorker')"
            ]
          },
          "metadata": {},
          "execution_count": 30
        },
        {
          "output_type": "execute_result",
          "data": {
            "text/plain": [
              "('Marthandavarma (novel)', 'kerala sahitya akademi')"
            ]
          },
          "metadata": {},
          "execution_count": 30
        }
      ]
    },
    {
      "metadata": {
        "_uuid": "9d4afe9984d30503390013257f6ce166fd86847f",
        "id": "8IYJOHPTO0cX"
      },
      "cell_type": "markdown",
      "source": [
        "There's nothing wrong with books that link to the same page many times. They are just more likely to be trained on since there are more of them."
      ]
    },
    {
      "metadata": {
        "_uuid": "db51a53cf15a0702e5d66190750e2cd781f28ff6",
        "id": "4kbAh5qlO0cX"
      },
      "cell_type": "markdown",
      "source": [
        "## Note about Training / Testing Set\n",
        "\n",
        "In this specific case, a separate validation or testing set is not utilized for embedding computation. The primary objective is to generate high-quality embeddings rather than achieving optimal model accuracy. The prediction task serves as a means to train the network for embedding generation. Evaluation will focus on the embeddings themselves, assessing the proximity of similar books in the embedding space. While a separate validation/testing set is generally recommended to prevent overfitting, in this scenario, utilizing all data for training is prioritized to maximize embedding accuracy."
      ]
    },
    {
      "metadata": {
        "_uuid": "85e34746d4a4f0802b411d6222146259c406dd7c",
        "id": "mW9PkPmUO0cY"
      },
      "cell_type": "markdown",
      "source": [
        "## Generator For Training Samples\n",
        "\n",
        "To train the neural network, both positive and negative samples are generated. Positive samples are drawn from the pairs dataset and assigned a label of 1. Negative samples are created by randomly selecting a book and a link, ensuring the pair is not in pairs, and assigning a label of -1 or 0, depending on the chosen regression or classification approach. A generator function is implemented to yield batches of training samples, facilitating incremental training and efficient memory management."
      ]
    },
    {
      "metadata": {
        "trusted": false,
        "_uuid": "a0756ca011c3a5a51168973cd9cbf2e8c0922a92",
        "id": "IoDJdy_vO0cY"
      },
      "cell_type": "code",
      "source": [
        "import numpy as np\n",
        "import random\n",
        "random.seed(100)\n",
        "\n",
        "def generate_batch(pairs, n_positive = 50, negative_ratio = 1.0, classification = False):\n",
        "    \"\"\"Generate batches of samples for training\"\"\"\n",
        "    batch_size = n_positive * (1 + negative_ratio)\n",
        "    batch = np.zeros((batch_size, 3))\n",
        "\n",
        "    # Adjust label based on task\n",
        "    #Classification\n",
        "    ng_label = 0\n",
        "\n",
        "    # This creates a generator\n",
        "    while True:\n",
        "        # randomly choose positive examples\n",
        "        for idx, (book_id, link_id) in enumerate(random.sample(pairs, n_positive)):\n",
        "            batch[idx, :] = (book_id, link_id, 1)\n",
        "\n",
        "        # Increment idx by 1\n",
        "        idx += 1\n",
        "\n",
        "        # Add negative examples until reach batch size\n",
        "        while idx < batch_size:\n",
        "\n",
        "            # random selection\n",
        "            random_book = random.randrange(len(books))\n",
        "            random_link = random.randrange(len(links))\n",
        "\n",
        "            # Check to make sure this is not a positive example\n",
        "            if (random_book, random_link) not in pairs_set:\n",
        "\n",
        "                # Add to batch and increment index\n",
        "                batch[idx, :] = (random_book, random_link, ng_label)\n",
        "                idx += 1\n",
        "\n",
        "        # Make sure to shuffle order\n",
        "        np.random.shuffle(batch)\n",
        "        yield {'book': batch[:, 0], 'link': batch[:, 1]}, batch[:, 2]"
      ],
      "execution_count": null,
      "outputs": []
    },
    {
      "metadata": {
        "_uuid": "a678f3b226840eb4562548cbcd1da1414052e80e",
        "id": "rOo_L6s-O0cZ"
      },
      "cell_type": "markdown",
      "source": [
        "To get a new batch, call `next` on the generator."
      ]
    },
    {
      "metadata": {
        "trusted": false,
        "_uuid": "7677060e428889d9d9f2a38b10b428add0aaacc1",
        "id": "UhC6VF5AO0ca",
        "colab": {
          "base_uri": "https://localhost:8080/"
        },
        "outputId": "8b47fc1b-632d-47a1-be20-95cd116050a6"
      },
      "cell_type": "code",
      "source": [
        "next(generate_batch(pairs, n_positive = 2, negative_ratio = 2))"
      ],
      "execution_count": null,
      "outputs": [
        {
          "output_type": "execute_result",
          "data": {
            "text/plain": [
              "({'book': array([25757., 28410.,  7206., 22162., 29814.,  6895.]),\n",
              "  'link': array([22920., 33217., 34924.,  5588., 11452.,   260.])},\n",
              " array([0., 0., 0., 1., 0., 1.]))"
            ]
          },
          "metadata": {},
          "execution_count": 35
        }
      ]
    },
    {
      "metadata": {
        "trusted": false,
        "_uuid": "1e98c3e8a7588d2cbdb220bdfe4caf41fd0db4ac",
        "id": "2mOl1zB4O0cb",
        "colab": {
          "base_uri": "https://localhost:8080/"
        },
        "outputId": "3dcfac69-c13b-4497-885f-af729f9d5e28"
      },
      "cell_type": "code",
      "source": [
        "x, y = next(generate_batch(pairs, n_positive = 2, negative_ratio = 2))\n",
        "\n",
        "# Show a few example training pairs\n",
        "for label, b_idx, l_idx in zip(y, x['book'], x['link']):\n",
        "    print(f'Book: {index_book[b_idx]:30} Link: {index_link[l_idx]:40} Label: {label}')"
      ],
      "execution_count": null,
      "outputs": [
        {
          "output_type": "stream",
          "name": "stdout",
          "text": [
            "Book: Bag of Bones                   Link: category:novels by stephen king          Label: 1.0\n",
            "Book: Deep Six (novel)               Link: president of the united states           Label: 1.0\n",
            "Book: The Counterfeit Man            Link: gerald gardner (wiccan)                  Label: 0.0\n",
            "Book: Des Imagistes                  Link: august strindberg                        Label: 0.0\n",
            "Book: The Soul of the Robot          Link: p.c. cast                                Label: 0.0\n",
            "Book: Soul Music (novel)             Link: peter crowther                           Label: 0.0\n"
          ]
        }
      ]
    },
    {
      "metadata": {
        "_uuid": "785228a8ae9749e0fd2a63de04fb0bc59a46e276",
        "id": "eb4mdqdTO0cc"
      },
      "cell_type": "markdown",
      "source": [
        "The neural network will take in the book index and the link index and try to embed them in such a way that it can predict the label from the embeddings."
      ]
    },
    {
      "metadata": {
        "_uuid": "ff18e37ffb05777b6266d9dcded1ef0a5b7546d3",
        "id": "khIPqlvVO0cc"
      },
      "cell_type": "markdown",
      "source": [
        "# Neural Network Embedding Model\n",
        "his section details the construction of a neural network classification model for learning entity embeddings. The model takes book and link indices as input and predicts whether the link is present in the book's article. The core components of the model include embedding layers for books and links, a dot product layer to merge embeddings, and a dense layer with sigmoid activation for classification. The dot product, with normalization, computes the cosine similarity between embeddings, encouraging the network to learn similar embeddings for books with similar links.\n",
        "\n",
        "The model is employing binary cross-entropy as the loss function and a sigmoid activation function to produce output probabilities between 0 and 1. The Adam optimizer is used for parameter updates during training."
      ]
    },
    {
      "metadata": {
        "trusted": false,
        "_uuid": "ac6437fc250ffa369e700983034dd10ecb1cd0ad",
        "id": "PJrlqP3zO0cd"
      },
      "cell_type": "code",
      "source": [
        "from keras.layers import Input, Embedding, Dot, Reshape, Dense\n",
        "from keras.models import Model"
      ],
      "execution_count": null,
      "outputs": []
    },
    {
      "metadata": {
        "trusted": false,
        "_uuid": "03f618c3d84bad94afac5acba8f8ccdf81d1c429",
        "id": "NS-qmhF-O0cd",
        "colab": {
          "base_uri": "https://localhost:8080/",
          "height": 391
        },
        "outputId": "5af2798a-8278-446a-8b8b-9dd1eb6bd887"
      },
      "cell_type": "code",
      "source": [
        "def book_embedding_model(embedding_size = 50, classification = False):\n",
        "    \"\"\"Model to embed books and wikilinks using the functional API.\n",
        "       Trained to discern if a link is present in a article\"\"\"\n",
        "\n",
        "    # Both inputs are 1-dimensional\n",
        "    book = Input(name = 'book', shape = [1])\n",
        "    link = Input(name = 'link', shape = [1])\n",
        "\n",
        "    # Embedding the book (shape will be (None, 1, 50))\n",
        "    book_embedding = Embedding(name = 'book_embedding',\n",
        "                               input_dim = len(book_index),\n",
        "                               output_dim = embedding_size)(book)\n",
        "\n",
        "    # Embedding the link (shape will be (None, 1, 50))\n",
        "    link_embedding = Embedding(name = 'link_embedding',\n",
        "                               input_dim = len(link_index),\n",
        "                               output_dim = embedding_size)(link)\n",
        "\n",
        "    # Merge the layers with a dot product along the second axis (shape will be (None, 1, 1))\n",
        "    merged = Dot(name = 'dot_product', normalize = True, axes = 2)([book_embedding, link_embedding])\n",
        "\n",
        "    # Reshape to be a single number (shape will be (None, 1))\n",
        "    merged = Reshape(target_shape = [1])(merged)\n",
        "\n",
        "    # Classification , Using Binary_Crossentropy\n",
        "        merged = Dense(1, activation = 'sigmoid')(merged)\n",
        "        model = Model(inputs = [book, link], outputs = merged)\n",
        "        model.compile(optimizer = 'Adam', loss = 'binary_crossentropy', metrics = ['accuracy'])\n",
        "\n",
        "    return model\n",
        "\n",
        "# Instantiate model and show parameters\n",
        "model = book_embedding_model()\n",
        "model.summary()"
      ],
      "execution_count": null,
      "outputs": [
        {
          "output_type": "display_data",
          "data": {
            "text/plain": [
              "\u001b[1mModel: \"functional\"\u001b[0m\n"
            ],
            "text/html": [
              "<pre style=\"white-space:pre;overflow-x:auto;line-height:normal;font-family:Menlo,'DejaVu Sans Mono',consolas,'Courier New',monospace\"><span style=\"font-weight: bold\">Model: \"functional\"</span>\n",
              "</pre>\n"
            ]
          },
          "metadata": {}
        },
        {
          "output_type": "display_data",
          "data": {
            "text/plain": [
              "┏━━━━━━━━━━━━━━━━━━━━━━━━━━━┳━━━━━━━━━━━━━━━━━━━━━━━━┳━━━━━━━━━━━━━━━━┳━━━━━━━━━━━━━━━━━━━━━━━━┓\n",
              "┃\u001b[1m \u001b[0m\u001b[1mLayer (type)             \u001b[0m\u001b[1m \u001b[0m┃\u001b[1m \u001b[0m\u001b[1mOutput Shape          \u001b[0m\u001b[1m \u001b[0m┃\u001b[1m \u001b[0m\u001b[1m       Param #\u001b[0m\u001b[1m \u001b[0m┃\u001b[1m \u001b[0m\u001b[1mConnected to          \u001b[0m\u001b[1m \u001b[0m┃\n",
              "┡━━━━━━━━━━━━━━━━━━━━━━━━━━━╇━━━━━━━━━━━━━━━━━━━━━━━━╇━━━━━━━━━━━━━━━━╇━━━━━━━━━━━━━━━━━━━━━━━━┩\n",
              "│ book (\u001b[38;5;33mInputLayer\u001b[0m)         │ (\u001b[38;5;45mNone\u001b[0m, \u001b[38;5;34m1\u001b[0m)              │              \u001b[38;5;34m0\u001b[0m │ -                      │\n",
              "├───────────────────────────┼────────────────────────┼────────────────┼────────────────────────┤\n",
              "│ link (\u001b[38;5;33mInputLayer\u001b[0m)         │ (\u001b[38;5;45mNone\u001b[0m, \u001b[38;5;34m1\u001b[0m)              │              \u001b[38;5;34m0\u001b[0m │ -                      │\n",
              "├───────────────────────────┼────────────────────────┼────────────────┼────────────────────────┤\n",
              "│ book_embedding            │ (\u001b[38;5;45mNone\u001b[0m, \u001b[38;5;34m1\u001b[0m, \u001b[38;5;34m50\u001b[0m)          │      \u001b[38;5;34m1,851,000\u001b[0m │ book[\u001b[38;5;34m0\u001b[0m][\u001b[38;5;34m0\u001b[0m]             │\n",
              "│ (\u001b[38;5;33mEmbedding\u001b[0m)               │                        │                │                        │\n",
              "├───────────────────────────┼────────────────────────┼────────────────┼────────────────────────┤\n",
              "│ link_embedding            │ (\u001b[38;5;45mNone\u001b[0m, \u001b[38;5;34m1\u001b[0m, \u001b[38;5;34m50\u001b[0m)          │      \u001b[38;5;34m2,087,900\u001b[0m │ link[\u001b[38;5;34m0\u001b[0m][\u001b[38;5;34m0\u001b[0m]             │\n",
              "│ (\u001b[38;5;33mEmbedding\u001b[0m)               │                        │                │                        │\n",
              "├───────────────────────────┼────────────────────────┼────────────────┼────────────────────────┤\n",
              "│ dot_product (\u001b[38;5;33mDot\u001b[0m)         │ (\u001b[38;5;45mNone\u001b[0m, \u001b[38;5;34m1\u001b[0m, \u001b[38;5;34m1\u001b[0m)           │              \u001b[38;5;34m0\u001b[0m │ book_embedding[\u001b[38;5;34m0\u001b[0m][\u001b[38;5;34m0\u001b[0m],  │\n",
              "│                           │                        │                │ link_embedding[\u001b[38;5;34m0\u001b[0m][\u001b[38;5;34m0\u001b[0m]   │\n",
              "├───────────────────────────┼────────────────────────┼────────────────┼────────────────────────┤\n",
              "│ reshape (\u001b[38;5;33mReshape\u001b[0m)         │ (\u001b[38;5;45mNone\u001b[0m, \u001b[38;5;34m1\u001b[0m)              │              \u001b[38;5;34m0\u001b[0m │ dot_product[\u001b[38;5;34m0\u001b[0m][\u001b[38;5;34m0\u001b[0m]      │\n",
              "└───────────────────────────┴────────────────────────┴────────────────┴────────────────────────┘\n"
            ],
            "text/html": [
              "<pre style=\"white-space:pre;overflow-x:auto;line-height:normal;font-family:Menlo,'DejaVu Sans Mono',consolas,'Courier New',monospace\">┏━━━━━━━━━━━━━━━━━━━━━━━━━━━┳━━━━━━━━━━━━━━━━━━━━━━━━┳━━━━━━━━━━━━━━━━┳━━━━━━━━━━━━━━━━━━━━━━━━┓\n",
              "┃<span style=\"font-weight: bold\"> Layer (type)              </span>┃<span style=\"font-weight: bold\"> Output Shape           </span>┃<span style=\"font-weight: bold\">        Param # </span>┃<span style=\"font-weight: bold\"> Connected to           </span>┃\n",
              "┡━━━━━━━━━━━━━━━━━━━━━━━━━━━╇━━━━━━━━━━━━━━━━━━━━━━━━╇━━━━━━━━━━━━━━━━╇━━━━━━━━━━━━━━━━━━━━━━━━┩\n",
              "│ book (<span style=\"color: #0087ff; text-decoration-color: #0087ff\">InputLayer</span>)         │ (<span style=\"color: #00d7ff; text-decoration-color: #00d7ff\">None</span>, <span style=\"color: #00af00; text-decoration-color: #00af00\">1</span>)              │              <span style=\"color: #00af00; text-decoration-color: #00af00\">0</span> │ -                      │\n",
              "├───────────────────────────┼────────────────────────┼────────────────┼────────────────────────┤\n",
              "│ link (<span style=\"color: #0087ff; text-decoration-color: #0087ff\">InputLayer</span>)         │ (<span style=\"color: #00d7ff; text-decoration-color: #00d7ff\">None</span>, <span style=\"color: #00af00; text-decoration-color: #00af00\">1</span>)              │              <span style=\"color: #00af00; text-decoration-color: #00af00\">0</span> │ -                      │\n",
              "├───────────────────────────┼────────────────────────┼────────────────┼────────────────────────┤\n",
              "│ book_embedding            │ (<span style=\"color: #00d7ff; text-decoration-color: #00d7ff\">None</span>, <span style=\"color: #00af00; text-decoration-color: #00af00\">1</span>, <span style=\"color: #00af00; text-decoration-color: #00af00\">50</span>)          │      <span style=\"color: #00af00; text-decoration-color: #00af00\">1,851,000</span> │ book[<span style=\"color: #00af00; text-decoration-color: #00af00\">0</span>][<span style=\"color: #00af00; text-decoration-color: #00af00\">0</span>]             │\n",
              "│ (<span style=\"color: #0087ff; text-decoration-color: #0087ff\">Embedding</span>)               │                        │                │                        │\n",
              "├───────────────────────────┼────────────────────────┼────────────────┼────────────────────────┤\n",
              "│ link_embedding            │ (<span style=\"color: #00d7ff; text-decoration-color: #00d7ff\">None</span>, <span style=\"color: #00af00; text-decoration-color: #00af00\">1</span>, <span style=\"color: #00af00; text-decoration-color: #00af00\">50</span>)          │      <span style=\"color: #00af00; text-decoration-color: #00af00\">2,087,900</span> │ link[<span style=\"color: #00af00; text-decoration-color: #00af00\">0</span>][<span style=\"color: #00af00; text-decoration-color: #00af00\">0</span>]             │\n",
              "│ (<span style=\"color: #0087ff; text-decoration-color: #0087ff\">Embedding</span>)               │                        │                │                        │\n",
              "├───────────────────────────┼────────────────────────┼────────────────┼────────────────────────┤\n",
              "│ dot_product (<span style=\"color: #0087ff; text-decoration-color: #0087ff\">Dot</span>)         │ (<span style=\"color: #00d7ff; text-decoration-color: #00d7ff\">None</span>, <span style=\"color: #00af00; text-decoration-color: #00af00\">1</span>, <span style=\"color: #00af00; text-decoration-color: #00af00\">1</span>)           │              <span style=\"color: #00af00; text-decoration-color: #00af00\">0</span> │ book_embedding[<span style=\"color: #00af00; text-decoration-color: #00af00\">0</span>][<span style=\"color: #00af00; text-decoration-color: #00af00\">0</span>],  │\n",
              "│                           │                        │                │ link_embedding[<span style=\"color: #00af00; text-decoration-color: #00af00\">0</span>][<span style=\"color: #00af00; text-decoration-color: #00af00\">0</span>]   │\n",
              "├───────────────────────────┼────────────────────────┼────────────────┼────────────────────────┤\n",
              "│ reshape (<span style=\"color: #0087ff; text-decoration-color: #0087ff\">Reshape</span>)         │ (<span style=\"color: #00d7ff; text-decoration-color: #00d7ff\">None</span>, <span style=\"color: #00af00; text-decoration-color: #00af00\">1</span>)              │              <span style=\"color: #00af00; text-decoration-color: #00af00\">0</span> │ dot_product[<span style=\"color: #00af00; text-decoration-color: #00af00\">0</span>][<span style=\"color: #00af00; text-decoration-color: #00af00\">0</span>]      │\n",
              "└───────────────────────────┴────────────────────────┴────────────────┴────────────────────────┘\n",
              "</pre>\n"
            ]
          },
          "metadata": {}
        },
        {
          "output_type": "display_data",
          "data": {
            "text/plain": [
              "\u001b[1m Total params: \u001b[0m\u001b[38;5;34m3,938,900\u001b[0m (15.03 MB)\n"
            ],
            "text/html": [
              "<pre style=\"white-space:pre;overflow-x:auto;line-height:normal;font-family:Menlo,'DejaVu Sans Mono',consolas,'Courier New',monospace\"><span style=\"font-weight: bold\"> Total params: </span><span style=\"color: #00af00; text-decoration-color: #00af00\">3,938,900</span> (15.03 MB)\n",
              "</pre>\n"
            ]
          },
          "metadata": {}
        },
        {
          "output_type": "display_data",
          "data": {
            "text/plain": [
              "\u001b[1m Trainable params: \u001b[0m\u001b[38;5;34m3,938,900\u001b[0m (15.03 MB)\n"
            ],
            "text/html": [
              "<pre style=\"white-space:pre;overflow-x:auto;line-height:normal;font-family:Menlo,'DejaVu Sans Mono',consolas,'Courier New',monospace\"><span style=\"font-weight: bold\"> Trainable params: </span><span style=\"color: #00af00; text-decoration-color: #00af00\">3,938,900</span> (15.03 MB)\n",
              "</pre>\n"
            ]
          },
          "metadata": {}
        },
        {
          "output_type": "display_data",
          "data": {
            "text/plain": [
              "\u001b[1m Non-trainable params: \u001b[0m\u001b[38;5;34m0\u001b[0m (0.00 B)\n"
            ],
            "text/html": [
              "<pre style=\"white-space:pre;overflow-x:auto;line-height:normal;font-family:Menlo,'DejaVu Sans Mono',consolas,'Courier New',monospace\"><span style=\"font-weight: bold\"> Non-trainable params: </span><span style=\"color: #00af00; text-decoration-color: #00af00\">0</span> (0.00 B)\n",
              "</pre>\n"
            ]
          },
          "metadata": {}
        }
      ]
    },
    {
      "metadata": {
        "_uuid": "fcb7c521ceaa7e6e8e82ad01af10fdcf553a4166",
        "id": "VMJ_aiUoO0cf"
      },
      "cell_type": "markdown",
      "source": [
        "There are nearly 4.0 million weights (parameters) that need to be learned by the neural network. Each of these represents one number in an embedding for one entity. During training, the neural network adjusts these parameters in order to minimize the loss function on the training data."
      ]
    },
    {
      "metadata": {
        "_uuid": "f2f25b007525176ceba513eb5d6c5b94efcdcdb4",
        "id": "jx4CH6FsO0cf"
      },
      "cell_type": "markdown",
      "source": [
        "# Train Model\n",
        "\n",
        "The neural network model is trained using the generated training data to learn entity embeddings. During training, the model adjusts its parameters to optimize its ability to predict the presence or absence of a link within a book's article. The resulting embeddings provide a vector representation of books and links, capturing their relationships.\n",
        "\n",
        "Training parameters include batch size, negative ratio, and the number of epochs. A batch size is chosen based on available memory, while the negative ratio and number of epochs are adjusted to achieve optimal performance. Experimentation with these parameters can further enhance model performance."
      ]
    },
    {
      "metadata": {
        "trusted": false,
        "_uuid": "28aa85cfac5d079289fbba3607b30ac08b9bb2e8",
        "id": "dO-Lb1c4O0cg",
        "colab": {
          "base_uri": "https://localhost:8080/"
        },
        "outputId": "d66508a6-6c59-4c4e-d7d4-136649bf4be9"
      },
      "cell_type": "code",
      "source": [
        "n_positive = 1024\n",
        "\n",
        "gen = generate_batch(pairs, n_positive, negative_ratio = 2)\n",
        "\n",
        "# Train using fit() instead of fit_generator()\n",
        "h = model.fit(gen, epochs = 15,\n",
        "              steps_per_epoch = len(pairs) // n_positive,\n",
        "              verbose = 2)\n"
      ],
      "execution_count": null,
      "outputs": [
        {
          "output_type": "stream",
          "name": "stdout",
          "text": [
            "Epoch 1/15\n",
            "754/754 - 38s - 50ms/step - loss: 0.2605\n",
            "Epoch 2/15\n",
            "754/754 - 35s - 46ms/step - loss: 0.1159\n",
            "Epoch 3/15\n",
            "754/754 - 36s - 48ms/step - loss: 0.0842\n",
            "Epoch 4/15\n",
            "754/754 - 36s - 48ms/step - loss: 0.0746\n",
            "Epoch 5/15\n",
            "754/754 - 36s - 47ms/step - loss: 0.0695\n",
            "Epoch 6/15\n",
            "754/754 - 36s - 48ms/step - loss: 0.0662\n",
            "Epoch 7/15\n",
            "754/754 - 35s - 46ms/step - loss: 0.0638\n",
            "Epoch 8/15\n",
            "754/754 - 36s - 48ms/step - loss: 0.0621\n",
            "Epoch 9/15\n",
            "754/754 - 35s - 46ms/step - loss: 0.0608\n",
            "Epoch 10/15\n",
            "754/754 - 36s - 48ms/step - loss: 0.0598\n",
            "Epoch 11/15\n",
            "754/754 - 35s - 46ms/step - loss: 0.0589\n",
            "Epoch 12/15\n",
            "754/754 - 36s - 48ms/step - loss: 0.0581\n",
            "Epoch 13/15\n",
            "754/754 - 35s - 46ms/step - loss: 0.0575\n",
            "Epoch 14/15\n",
            "754/754 - 36s - 48ms/step - loss: 0.0570\n",
            "Epoch 15/15\n",
            "754/754 - 35s - 47ms/step - loss: 0.0564\n"
          ]
        }
      ]
    },
    {
      "metadata": {
        "_uuid": "7bab4e9176ca0d3cf2435bee95c1367095b23e43",
        "id": "LubzIKJgO0cg"
      },
      "cell_type": "markdown",
      "source": [
        "The loss decreases as training progresses which should give us confidence the model is learning something!\n",
        "\n",
        "\n",
        "The entire trained model can be saved and later loaded in so you don't have to repeat the training. It's also possible to save certain layers."
      ]
    },
    {
      "metadata": {
        "trusted": false,
        "_uuid": "f376b0cc60297574898755b5c791d5dc03cf9a53",
        "id": "fcHBSuFAO0ch",
        "colab": {
          "base_uri": "https://localhost:8080/"
        },
        "outputId": "b9baf61b-6ffa-4265-a4d9-63e9970b802b"
      },
      "cell_type": "code",
      "source": [
        "model.save('first_attempt.h5')"
      ],
      "execution_count": null,
      "outputs": [
        {
          "output_type": "stream",
          "name": "stderr",
          "text": [
            "WARNING:absl:You are saving your model as an HDF5 file via `model.save()` or `keras.saving.save_model(model)`. This file format is considered legacy. We recommend using instead the native Keras format, e.g. `model.save('my_model.keras')` or `keras.saving.save_model(model, 'my_model.keras')`. \n"
          ]
        }
      ]
    },
    {
      "cell_type": "code",
      "source": [
        "model.save('Recommender_Model.keras')"
      ],
      "metadata": {
        "id": "6x72WPHnBie7"
      },
      "execution_count": null,
      "outputs": []
    },
    {
      "cell_type": "code",
      "source": [
        "from tensorflow.keras.models import load_model\n",
        "\n",
        "# Load the model\n",
        "model = load_model('Recommender_Model.keras')\n",
        "\n",
        "# Check the model summary (optional)\n",
        "model.summary()\n"
      ],
      "metadata": {
        "colab": {
          "base_uri": "https://localhost:8080/",
          "height": 463
        },
        "id": "lRfKq4moPWQg",
        "outputId": "9bbea912-7137-4244-a4b0-919c3853756a"
      },
      "execution_count": null,
      "outputs": [
        {
          "output_type": "stream",
          "name": "stderr",
          "text": [
            "/usr/local/lib/python3.10/dist-packages/keras/src/saving/saving_lib.py:713: UserWarning: Skipping variable loading for optimizer 'rmsprop', because it has 4 variables whereas the saved optimizer has 6 variables. \n",
            "  saveable.load_own_variables(weights_store.get(inner_path))\n"
          ]
        },
        {
          "output_type": "display_data",
          "data": {
            "text/plain": [
              "\u001b[1mModel: \"functional\"\u001b[0m\n"
            ],
            "text/html": [
              "<pre style=\"white-space:pre;overflow-x:auto;line-height:normal;font-family:Menlo,'DejaVu Sans Mono',consolas,'Courier New',monospace\"><span style=\"font-weight: bold\">Model: \"functional\"</span>\n",
              "</pre>\n"
            ]
          },
          "metadata": {}
        },
        {
          "output_type": "display_data",
          "data": {
            "text/plain": [
              "┏━━━━━━━━━━━━━━━━━━━━━━━━━━━┳━━━━━━━━━━━━━━━━━━━━━━━━┳━━━━━━━━━━━━━━━━┳━━━━━━━━━━━━━━━━━━━━━━━━┓\n",
              "┃\u001b[1m \u001b[0m\u001b[1mLayer (type)             \u001b[0m\u001b[1m \u001b[0m┃\u001b[1m \u001b[0m\u001b[1mOutput Shape          \u001b[0m\u001b[1m \u001b[0m┃\u001b[1m \u001b[0m\u001b[1m       Param #\u001b[0m\u001b[1m \u001b[0m┃\u001b[1m \u001b[0m\u001b[1mConnected to          \u001b[0m\u001b[1m \u001b[0m┃\n",
              "┡━━━━━━━━━━━━━━━━━━━━━━━━━━━╇━━━━━━━━━━━━━━━━━━━━━━━━╇━━━━━━━━━━━━━━━━╇━━━━━━━━━━━━━━━━━━━━━━━━┩\n",
              "│ book (\u001b[38;5;33mInputLayer\u001b[0m)         │ (\u001b[38;5;45mNone\u001b[0m, \u001b[38;5;34m1\u001b[0m)              │              \u001b[38;5;34m0\u001b[0m │ -                      │\n",
              "├───────────────────────────┼────────────────────────┼────────────────┼────────────────────────┤\n",
              "│ link (\u001b[38;5;33mInputLayer\u001b[0m)         │ (\u001b[38;5;45mNone\u001b[0m, \u001b[38;5;34m1\u001b[0m)              │              \u001b[38;5;34m0\u001b[0m │ -                      │\n",
              "├───────────────────────────┼────────────────────────┼────────────────┼────────────────────────┤\n",
              "│ book_embedding            │ (\u001b[38;5;45mNone\u001b[0m, \u001b[38;5;34m1\u001b[0m, \u001b[38;5;34m50\u001b[0m)          │      \u001b[38;5;34m1,851,000\u001b[0m │ book[\u001b[38;5;34m0\u001b[0m][\u001b[38;5;34m0\u001b[0m]             │\n",
              "│ (\u001b[38;5;33mEmbedding\u001b[0m)               │                        │                │                        │\n",
              "├───────────────────────────┼────────────────────────┼────────────────┼────────────────────────┤\n",
              "│ link_embedding            │ (\u001b[38;5;45mNone\u001b[0m, \u001b[38;5;34m1\u001b[0m, \u001b[38;5;34m50\u001b[0m)          │      \u001b[38;5;34m2,087,900\u001b[0m │ link[\u001b[38;5;34m0\u001b[0m][\u001b[38;5;34m0\u001b[0m]             │\n",
              "│ (\u001b[38;5;33mEmbedding\u001b[0m)               │                        │                │                        │\n",
              "├───────────────────────────┼────────────────────────┼────────────────┼────────────────────────┤\n",
              "│ dot_product (\u001b[38;5;33mDot\u001b[0m)         │ (\u001b[38;5;45mNone\u001b[0m, \u001b[38;5;34m1\u001b[0m, \u001b[38;5;34m1\u001b[0m)           │              \u001b[38;5;34m0\u001b[0m │ book_embedding[\u001b[38;5;34m0\u001b[0m][\u001b[38;5;34m0\u001b[0m],  │\n",
              "│                           │                        │                │ link_embedding[\u001b[38;5;34m0\u001b[0m][\u001b[38;5;34m0\u001b[0m]   │\n",
              "├───────────────────────────┼────────────────────────┼────────────────┼────────────────────────┤\n",
              "│ reshape (\u001b[38;5;33mReshape\u001b[0m)         │ (\u001b[38;5;45mNone\u001b[0m, \u001b[38;5;34m1\u001b[0m)              │              \u001b[38;5;34m0\u001b[0m │ dot_product[\u001b[38;5;34m0\u001b[0m][\u001b[38;5;34m0\u001b[0m]      │\n",
              "└───────────────────────────┴────────────────────────┴────────────────┴────────────────────────┘\n"
            ],
            "text/html": [
              "<pre style=\"white-space:pre;overflow-x:auto;line-height:normal;font-family:Menlo,'DejaVu Sans Mono',consolas,'Courier New',monospace\">┏━━━━━━━━━━━━━━━━━━━━━━━━━━━┳━━━━━━━━━━━━━━━━━━━━━━━━┳━━━━━━━━━━━━━━━━┳━━━━━━━━━━━━━━━━━━━━━━━━┓\n",
              "┃<span style=\"font-weight: bold\"> Layer (type)              </span>┃<span style=\"font-weight: bold\"> Output Shape           </span>┃<span style=\"font-weight: bold\">        Param # </span>┃<span style=\"font-weight: bold\"> Connected to           </span>┃\n",
              "┡━━━━━━━━━━━━━━━━━━━━━━━━━━━╇━━━━━━━━━━━━━━━━━━━━━━━━╇━━━━━━━━━━━━━━━━╇━━━━━━━━━━━━━━━━━━━━━━━━┩\n",
              "│ book (<span style=\"color: #0087ff; text-decoration-color: #0087ff\">InputLayer</span>)         │ (<span style=\"color: #00d7ff; text-decoration-color: #00d7ff\">None</span>, <span style=\"color: #00af00; text-decoration-color: #00af00\">1</span>)              │              <span style=\"color: #00af00; text-decoration-color: #00af00\">0</span> │ -                      │\n",
              "├───────────────────────────┼────────────────────────┼────────────────┼────────────────────────┤\n",
              "│ link (<span style=\"color: #0087ff; text-decoration-color: #0087ff\">InputLayer</span>)         │ (<span style=\"color: #00d7ff; text-decoration-color: #00d7ff\">None</span>, <span style=\"color: #00af00; text-decoration-color: #00af00\">1</span>)              │              <span style=\"color: #00af00; text-decoration-color: #00af00\">0</span> │ -                      │\n",
              "├───────────────────────────┼────────────────────────┼────────────────┼────────────────────────┤\n",
              "│ book_embedding            │ (<span style=\"color: #00d7ff; text-decoration-color: #00d7ff\">None</span>, <span style=\"color: #00af00; text-decoration-color: #00af00\">1</span>, <span style=\"color: #00af00; text-decoration-color: #00af00\">50</span>)          │      <span style=\"color: #00af00; text-decoration-color: #00af00\">1,851,000</span> │ book[<span style=\"color: #00af00; text-decoration-color: #00af00\">0</span>][<span style=\"color: #00af00; text-decoration-color: #00af00\">0</span>]             │\n",
              "│ (<span style=\"color: #0087ff; text-decoration-color: #0087ff\">Embedding</span>)               │                        │                │                        │\n",
              "├───────────────────────────┼────────────────────────┼────────────────┼────────────────────────┤\n",
              "│ link_embedding            │ (<span style=\"color: #00d7ff; text-decoration-color: #00d7ff\">None</span>, <span style=\"color: #00af00; text-decoration-color: #00af00\">1</span>, <span style=\"color: #00af00; text-decoration-color: #00af00\">50</span>)          │      <span style=\"color: #00af00; text-decoration-color: #00af00\">2,087,900</span> │ link[<span style=\"color: #00af00; text-decoration-color: #00af00\">0</span>][<span style=\"color: #00af00; text-decoration-color: #00af00\">0</span>]             │\n",
              "│ (<span style=\"color: #0087ff; text-decoration-color: #0087ff\">Embedding</span>)               │                        │                │                        │\n",
              "├───────────────────────────┼────────────────────────┼────────────────┼────────────────────────┤\n",
              "│ dot_product (<span style=\"color: #0087ff; text-decoration-color: #0087ff\">Dot</span>)         │ (<span style=\"color: #00d7ff; text-decoration-color: #00d7ff\">None</span>, <span style=\"color: #00af00; text-decoration-color: #00af00\">1</span>, <span style=\"color: #00af00; text-decoration-color: #00af00\">1</span>)           │              <span style=\"color: #00af00; text-decoration-color: #00af00\">0</span> │ book_embedding[<span style=\"color: #00af00; text-decoration-color: #00af00\">0</span>][<span style=\"color: #00af00; text-decoration-color: #00af00\">0</span>],  │\n",
              "│                           │                        │                │ link_embedding[<span style=\"color: #00af00; text-decoration-color: #00af00\">0</span>][<span style=\"color: #00af00; text-decoration-color: #00af00\">0</span>]   │\n",
              "├───────────────────────────┼────────────────────────┼────────────────┼────────────────────────┤\n",
              "│ reshape (<span style=\"color: #0087ff; text-decoration-color: #0087ff\">Reshape</span>)         │ (<span style=\"color: #00d7ff; text-decoration-color: #00d7ff\">None</span>, <span style=\"color: #00af00; text-decoration-color: #00af00\">1</span>)              │              <span style=\"color: #00af00; text-decoration-color: #00af00\">0</span> │ dot_product[<span style=\"color: #00af00; text-decoration-color: #00af00\">0</span>][<span style=\"color: #00af00; text-decoration-color: #00af00\">0</span>]      │\n",
              "└───────────────────────────┴────────────────────────┴────────────────┴────────────────────────┘\n",
              "</pre>\n"
            ]
          },
          "metadata": {}
        },
        {
          "output_type": "display_data",
          "data": {
            "text/plain": [
              "\u001b[1m Total params: \u001b[0m\u001b[38;5;34m7,877,802\u001b[0m (30.05 MB)\n"
            ],
            "text/html": [
              "<pre style=\"white-space:pre;overflow-x:auto;line-height:normal;font-family:Menlo,'DejaVu Sans Mono',consolas,'Courier New',monospace\"><span style=\"font-weight: bold\"> Total params: </span><span style=\"color: #00af00; text-decoration-color: #00af00\">7,877,802</span> (30.05 MB)\n",
              "</pre>\n"
            ]
          },
          "metadata": {}
        },
        {
          "output_type": "display_data",
          "data": {
            "text/plain": [
              "\u001b[1m Trainable params: \u001b[0m\u001b[38;5;34m3,938,900\u001b[0m (15.03 MB)\n"
            ],
            "text/html": [
              "<pre style=\"white-space:pre;overflow-x:auto;line-height:normal;font-family:Menlo,'DejaVu Sans Mono',consolas,'Courier New',monospace\"><span style=\"font-weight: bold\"> Trainable params: </span><span style=\"color: #00af00; text-decoration-color: #00af00\">3,938,900</span> (15.03 MB)\n",
              "</pre>\n"
            ]
          },
          "metadata": {}
        },
        {
          "output_type": "display_data",
          "data": {
            "text/plain": [
              "\u001b[1m Non-trainable params: \u001b[0m\u001b[38;5;34m0\u001b[0m (0.00 B)\n"
            ],
            "text/html": [
              "<pre style=\"white-space:pre;overflow-x:auto;line-height:normal;font-family:Menlo,'DejaVu Sans Mono',consolas,'Courier New',monospace\"><span style=\"font-weight: bold\"> Non-trainable params: </span><span style=\"color: #00af00; text-decoration-color: #00af00\">0</span> (0.00 B)\n",
              "</pre>\n"
            ]
          },
          "metadata": {}
        },
        {
          "output_type": "display_data",
          "data": {
            "text/plain": [
              "\u001b[1m Optimizer params: \u001b[0m\u001b[38;5;34m3,938,902\u001b[0m (15.03 MB)\n"
            ],
            "text/html": [
              "<pre style=\"white-space:pre;overflow-x:auto;line-height:normal;font-family:Menlo,'DejaVu Sans Mono',consolas,'Courier New',monospace\"><span style=\"font-weight: bold\"> Optimizer params: </span><span style=\"color: #00af00; text-decoration-color: #00af00\">3,938,902</span> (15.03 MB)\n",
              "</pre>\n"
            ]
          },
          "metadata": {}
        }
      ]
    },
    {
      "metadata": {
        "_uuid": "62d20772dd704bf6870218b0aa24c8bec7051f32",
        "id": "AKugiaTSO0ci"
      },
      "cell_type": "markdown",
      "source": [
        "# Extract Embeddings and Analyze\n",
        "\n",
        "The trained model has learned - hopefully - representations of books and wikilinks that place similar entities next to one another in the embedding space. To find out if this is the case, we extract the embeddings and use them to find similar books and links."
      ]
    },
    {
      "metadata": {
        "trusted": false,
        "_uuid": "087f08d6fc4a0cf3f12a8d09ef940a1ca43044c8",
        "id": "7IvQfL-MO0ci",
        "colab": {
          "base_uri": "https://localhost:8080/"
        },
        "outputId": "d7592b2b-55e7-4fdc-f594-05e732789c05"
      },
      "cell_type": "code",
      "source": [
        "# Extract embeddings\n",
        "book_layer = model.get_layer('book_embedding')\n",
        "book_weights = book_layer.get_weights()[0]\n",
        "book_weights.shape"
      ],
      "execution_count": null,
      "outputs": [
        {
          "output_type": "execute_result",
          "data": {
            "text/plain": [
              "(37020, 50)"
            ]
          },
          "metadata": {},
          "execution_count": 44
        }
      ]
    },
    {
      "metadata": {
        "_uuid": "ac37cce60f79881e019dda2497bf86f29c62608d",
        "id": "Dta7Eop4O0cj"
      },
      "cell_type": "markdown",
      "source": [
        "Each book is now represented as a 50-dimensional vector.\n",
        "\n",
        "We need to normalize the embeddings so that the dot product between two embeddings becomes the cosine similarity."
      ]
    },
    {
      "metadata": {
        "trusted": false,
        "_uuid": "fa075b8a99b673dc8359d43e9428b5f50b6d35a5",
        "id": "m3FaIh3vO0cj",
        "colab": {
          "base_uri": "https://localhost:8080/"
        },
        "outputId": "915f04fc-7c54-4616-eb0b-9a4a0eec29e3"
      },
      "cell_type": "code",
      "source": [
        "book_weights = book_weights / np.linalg.norm(book_weights, axis = 1).reshape((-1, 1))\n",
        "book_weights[0][:10]\n",
        "np.sum(np.square(book_weights[0]))"
      ],
      "execution_count": null,
      "outputs": [
        {
          "output_type": "execute_result",
          "data": {
            "text/plain": [
              "array([ 0.01769526,  0.27759078, -0.05216399,  0.01265471, -0.05667922,\n",
              "       -0.22505926,  0.22640452, -0.05465611,  0.09149095, -0.00251603],\n",
              "      dtype=float32)"
            ]
          },
          "metadata": {},
          "execution_count": 45
        },
        {
          "output_type": "execute_result",
          "data": {
            "text/plain": [
              "0.9999999"
            ]
          },
          "metadata": {},
          "execution_count": 45
        }
      ]
    },
    {
      "metadata": {
        "_uuid": "9adc1d7818efbe36e34d0968fd4a9e4e891876ca",
        "id": "mIMz2PldO0cj"
      },
      "cell_type": "markdown",
      "source": [
        "Normalize just means divide each vector by the square root of the sum of squared components."
      ]
    },
    {
      "metadata": {
        "_uuid": "ef1f12b98a351fc6d09975ac67601a9832395a3a",
        "id": "ga5gIQRDO0ck"
      },
      "cell_type": "markdown",
      "source": [
        "# Finding Similar Books\n",
        "\n",
        "We've trained the model and extracted the embeddings - great - but where is the book recommendation system? Now that we have the embeddings, we can use them to recommend books that our model has learned are most similar to a given book.\n",
        "\n",
        "\n",
        "### Function to Find Most Similar Entities\n",
        "\n",
        "The function below takes in either a book or a link, a set of embeddings, and returns the `n` most similar items to the query. It does this by computing the dot product between the query and embeddings. Because we normalized the embeddings, the dot product represents the [cosine similarity](http://blog.christianperone.com/2013/09/machine-learning-cosine-similarity-for-vector-space-models-part-iii/) between two vectors. This is a measure of similarity that does not depend on the magnitude of the vector in contrast to the Euclidean distance. (The Euclidean distance would be another valid metric of similary to use to compare the embeddings.)\n",
        "\n",
        "Once we have the dot products, we can sort the results to find the closest entities in the embedding space. With cosine similarity, higher numbers indicate entities that are closer together, with -1 the furthest apart and +1 closest together."
      ]
    },
    {
      "metadata": {
        "trusted": false,
        "_uuid": "a55c6da94ada692a1ef52f376844a2f79a4c69af",
        "id": "kN--bnGnO0cm"
      },
      "cell_type": "code",
      "source": [
        "import pandas as pd\n",
        "import matplotlib.pyplot as plt\n",
        "%matplotlib inline\n",
        "plt.style.use('fivethirtyeight')\n",
        "plt.rcParams['font.size'] = 15\n",
        "\n",
        "def find_similar(name, weights, index_name = 'book', n = 10, least = False, return_dist = False, plot = False):\n",
        "    \"\"\"Find n most similar items (or least) to name based on embeddings. Option to also plot the results\"\"\"\n",
        "\n",
        "    # Select index and reverse index\n",
        "    if index_name == 'book':\n",
        "        index = book_index\n",
        "        rindex = index_book\n",
        "    elif index_name == 'page':\n",
        "        index = link_index\n",
        "        rindex = index_link\n",
        "\n",
        "    # Check to make sure `name` is in index\n",
        "    try:\n",
        "        # Calculate dot product between book and all others\n",
        "        dists = np.dot(weights, weights[index[name]])\n",
        "    except KeyError:\n",
        "        print(f'{name} Not Found.')\n",
        "        return\n",
        "\n",
        "    # Sort distance indexes from smallest to largest\n",
        "    sorted_dists = np.argsort(dists)\n",
        "\n",
        "    # Plot results if specified\n",
        "    if plot:\n",
        "\n",
        "        # Find furthest and closest items\n",
        "        furthest = sorted_dists[:(n // 2)]\n",
        "        closest = sorted_dists[-n-1: len(dists) - 1]\n",
        "        items = [rindex[c] for c in furthest]\n",
        "        items.extend(rindex[c] for c in closest)\n",
        "\n",
        "        # Find furthest and closets distances\n",
        "        distances = [dists[c] for c in furthest]\n",
        "        distances.extend(dists[c] for c in closest)\n",
        "\n",
        "        colors = ['r' for _ in range(n //2)]\n",
        "        colors.extend('g' for _ in range(n))\n",
        "\n",
        "        data = pd.DataFrame({'distance': distances}, index = items)\n",
        "\n",
        "        # Horizontal bar chart\n",
        "        data['distance'].plot.barh(color = colors, figsize = (10, 8),\n",
        "                                   edgecolor = 'k', linewidth = 2)\n",
        "        plt.xlabel('Cosine Similarity');\n",
        "        plt.axvline(x = 0, color = 'k');\n",
        "\n",
        "        # Formatting for italicized title\n",
        "        name_str = f'{index_name.capitalize()}s Most and Least Similar to'\n",
        "        for word in name.split():\n",
        "            # Title uses latex for italize\n",
        "            name_str += ' $\\it{' + word + '}$'\n",
        "        plt.title(name_str, x = 0.2, size = 28, y = 1.05)\n",
        "\n",
        "        return None\n",
        "\n",
        "    # If specified, find the least similar\n",
        "    if least:\n",
        "        # Take the first n from sorted distances\n",
        "        closest = sorted_dists[:n]\n",
        "\n",
        "        print(f'{index_name.capitalize()}s furthest from {name}.\\n')\n",
        "\n",
        "    # Otherwise find the most similar\n",
        "    else:\n",
        "        # Take the last n sorted distances\n",
        "        closest = sorted_dists[-n:]\n",
        "\n",
        "        # Need distances later on\n",
        "        if return_dist:\n",
        "            return dists, closest\n",
        "\n",
        "\n",
        "        print(f'{index_name.capitalize()}s closest to {name}.\\n')\n",
        "\n",
        "    # Need distances later on\n",
        "    if return_dist:\n",
        "        return dists, closest\n",
        "\n",
        "\n",
        "    # Print formatting\n",
        "    max_width = max([len(rindex[c]) for c in closest])\n",
        "\n",
        "    # Print the most similar and distances\n",
        "    for c in reversed(closest):\n",
        "        print(f'{index_name.capitalize()}: {rindex[c]:{max_width + 2}} Similarity: {dists[c]:.{2}}')\n",
        "\n"
      ],
      "execution_count": null,
      "outputs": []
    },
    {
      "metadata": {
        "_uuid": "545e128e043854af55510e09362b02412d7e8293",
        "id": "kNgJjNj1O0co"
      },
      "cell_type": "markdown",
      "source": [
        "(We know that this function works if the most similar book is the book itself. Because we multiply the item vector times all the other embeddings, the most similar should be the item itself with a similarity of 1.0.)"
      ]
    },
    {
      "metadata": {
        "trusted": false,
        "_uuid": "56ee8fa0d7f6806e28d1c21b229c77fe96f2a920",
        "id": "ZunLfeZnO0cr",
        "colab": {
          "base_uri": "https://localhost:8080/"
        },
        "outputId": "47a7bda9-8bd0-4989-a330-517d941b7529"
      },
      "cell_type": "code",
      "source": [
        "find_similar('War and Peace', book_weights)"
      ],
      "execution_count": null,
      "outputs": [
        {
          "output_type": "stream",
          "name": "stdout",
          "text": [
            "Books closest to War and Peace.\n",
            "\n",
            "Book: War and Peace                Similarity: 1.0\n",
            "Book: Anna Karenina                Similarity: 0.92\n",
            "Book: Demons (Dostoevsky novel)    Similarity: 0.92\n",
            "Book: Poor Folk                    Similarity: 0.92\n",
            "Book: The Master and Margarita     Similarity: 0.92\n",
            "Book: Dead Souls                   Similarity: 0.91\n",
            "Book: Crime and Punishment         Similarity: 0.91\n",
            "Book: The Idiot                    Similarity: 0.89\n",
            "Book: Eugene Onegin                Similarity: 0.88\n",
            "Book: Under Western Eyes (novel)   Similarity: 0.87\n"
          ]
        }
      ]
    },
    {
      "cell_type": "code",
      "source": [
        "find_similar('Brave New World',book_weights)"
      ],
      "metadata": {
        "colab": {
          "base_uri": "https://localhost:8080/"
        },
        "id": "XLFHSwX9FBZY",
        "outputId": "137dd29f-a7c6-40e6-9a23-ca255394db3b"
      },
      "execution_count": null,
      "outputs": [
        {
          "output_type": "stream",
          "name": "stdout",
          "text": [
            "Books closest to Brave New World.\n",
            "\n",
            "Book: Brave New World                                    Similarity: 1.0\n",
            "Book: Nineteen Eighty-Four                               Similarity: 0.91\n",
            "Book: A Clockwork Orange (novel)                         Similarity: 0.89\n",
            "Book: The Illuminatus! Trilogy                           Similarity: 0.87\n",
            "Book: Shikasta                                           Similarity: 0.86\n",
            "Book: Lolita                                             Similarity: 0.85\n",
            "Book: The Marriages Between Zones Three, Four and Five   Similarity: 0.85\n",
            "Book: The Difference Engine                              Similarity: 0.85\n",
            "Book: Brideshead Revisited                               Similarity: 0.85\n",
            "Book: The Alteration                                     Similarity: 0.85\n"
          ]
        }
      ]
    },
    {
      "metadata": {
        "_uuid": "e8cea3d986ff376edc283fcc5b3d5cf9c6f1452d",
        "id": "ACfl0ASNO0cr"
      },
      "cell_type": "markdown",
      "source": [
        "It works! The most similar books make sense at least for _War and Peace._\n",
        "\n"
      ]
    },
    {
      "metadata": {
        "trusted": false,
        "_uuid": "8ea092cce197b7b61eaece6cea08d561204578d7",
        "id": "FyR4quroO0cs",
        "colab": {
          "base_uri": "https://localhost:8080/"
        },
        "outputId": "7b205aea-4913-4c6c-da92-f8cee0a2f00f"
      },
      "cell_type": "code",
      "source": [
        "find_similar('War and Peace', book_weights, least = True, n = 5)"
      ],
      "execution_count": null,
      "outputs": [
        {
          "output_type": "stream",
          "name": "stdout",
          "text": [
            "Books furthest from War and Peace.\n",
            "\n",
            "Book: Doctor Dolittle's Garden       Similarity: -0.15\n",
            "Book: The Low Road (novel)           Similarity: -0.16\n",
            "Book: The Naughtiest Girl Again      Similarity: -0.18\n",
            "Book: Draft:City Solipsism           Similarity: -0.24\n",
            "Book: Choix des plus belles fleurs   Similarity: -0.29\n"
          ]
        }
      ]
    },
    {
      "metadata": {
        "_uuid": "c3f69cbbfd25ebb7d74120edc265981b6882d3d9",
        "id": "97RjJwvtO0ct"
      },
      "cell_type": "markdown",
      "source": [
        "The least similar books are quite a grab bag!"
      ]
    },
    {
      "metadata": {
        "trusted": false,
        "_uuid": "0d63d4bdf78a2ca847c9701ee10287ddc9c030d3",
        "id": "2lZmbMBkO0cu",
        "colab": {
          "base_uri": "https://localhost:8080/",
          "height": 810
        },
        "outputId": "4ef377fa-50c6-413f-9c79-de6a9c9c0e87"
      },
      "cell_type": "code",
      "source": [
        "find_similar('War and Peace', book_weights, n = 5, plot = True)"
      ],
      "execution_count": null,
      "outputs": [
        {
          "output_type": "display_data",
          "data": {
            "text/plain": [
              "<Figure size 1000x800 with 1 Axes>"
            ],
            "image/png": "[encoded data removed]"
          },
          "metadata": {}
        }
      ]
    },
    {
      "metadata": {
        "_uuid": "f635eab5209ac5f68734dcd288dd9e5cab7f1e03",
        "id": "xB5f55zTO0cw"
      },
      "cell_type": "markdown",
      "source": [
        "It doesn't work perfectly for every book as we can see."
      ]
    },
    {
      "metadata": {
        "trusted": false,
        "_uuid": "22571b1b218fa4e73c093675452ab0a13887f638",
        "id": "-Yo7b8nDO0cw",
        "colab": {
          "base_uri": "https://localhost:8080/"
        },
        "outputId": "78844bc4-07a7-4587-9be9-2e0ff3d10041"
      },
      "cell_type": "code",
      "source": [
        "find_similar('Artificial Intelligence: A Modern Approach', book_weights, n = 5)"
      ],
      "execution_count": null,
      "outputs": [
        {
          "output_type": "stream",
          "name": "stdout",
          "text": [
            "Books closest to Artificial Intelligence: A Modern Approach.\n",
            "\n",
            "Book: Artificial Intelligence: A Modern Approach          Similarity: 1.0\n",
            "Book: Structure and Interpretation of Computer Programs   Similarity: 0.87\n",
            "Book: Lisp in Small Pieces                                Similarity: 0.87\n",
            "Book: Hacking: The Art of Exploitation                    Similarity: 0.85\n",
            "Book: Compilers: Principles, Techniques, and Tools        Similarity: 0.83\n"
          ]
        }
      ]
    },
    {
      "metadata": {
        "trusted": false,
        "_uuid": "5747bd1c2a24231053e30d5d20de2fb9bf3382fd",
        "id": "DRzTrVoEO0cx",
        "colab": {
          "base_uri": "https://localhost:8080/"
        },
        "outputId": "7fc7abe8-d682-40eb-b5b7-bc444f6d69fe"
      },
      "cell_type": "code",
      "source": [
        "find_similar('Weapons of Math Destruction', book_weights, n = 5)"
      ],
      "execution_count": null,
      "outputs": [
        {
          "output_type": "stream",
          "name": "stdout",
          "text": [
            "Books closest to Weapons of Math Destruction.\n",
            "\n",
            "Book: Weapons of Math Destruction   Similarity: 1.0\n",
            "Book: The Lucifer Principle         Similarity: 0.86\n",
            "Book: Bully for Brontosaurus        Similarity: 0.85\n",
            "Book: A Troublesome Inheritance     Similarity: 0.84\n",
            "Book: White Rage                    Similarity: 0.84\n"
          ]
        }
      ]
    },
    {
      "metadata": {
        "_uuid": "d965d871afdb3cc6c20154a5d87a22192cb08858",
        "id": "uDFTzXBtO0cx"
      },
      "cell_type": "markdown",
      "source": [
        "Not bad by the looks of the results! I encourage you to play around with the model and explore the resulting embeddings. __We have successfully built a book recommendation system using neural network embeddings.__\n",
        "\n",
        "What should I read next? Currently I'm working through a fantastic collection of essays by Stephen Jay Gould."
      ]
    },
    {
      "metadata": {
        "trusted": false,
        "_uuid": "5216917cfb3a7fdf9b16cc1d36b6d759eaebbbc9",
        "id": "ZUoB2uuiO0cy",
        "colab": {
          "base_uri": "https://localhost:8080/"
        },
        "outputId": "4f1cdec7-4e09-431b-eb8f-a327b9cbfc36"
      },
      "cell_type": "code",
      "source": [
        "find_similar('Bully for Brontosaurus', book_weights, n = 5)"
      ],
      "execution_count": null,
      "outputs": [
        {
          "output_type": "stream",
          "name": "stdout",
          "text": [
            "Books closest to Bully for Brontosaurus.\n",
            "\n",
            "Book: Bully for Brontosaurus                               Similarity: 1.0\n",
            "Book: I Have Landed                                        Similarity: 0.92\n",
            "Book: Leonardo's Mountain of Clams and the Diet of Worms   Similarity: 0.9\n",
            "Book: Ever Since Darwin                                    Similarity: 0.9\n",
            "Book: Darwin: The Life of a Tormented Evolutionist         Similarity: 0.89\n"
          ]
        }
      ]
    },
    {
      "metadata": {
        "_uuid": "0cb445445d87714501bf9ad8d94ab173b9e196a7",
        "id": "_IUwF-ldO0cy"
      },
      "cell_type": "markdown",
      "source": [
        "The algorithm has spoken!"
      ]
    },
    {
      "metadata": {
        "trusted": false,
        "_uuid": "348f50289eb1e851cb5e951aa887b2ad25e65284",
        "id": "UaspI1C1O0cz",
        "colab": {
          "base_uri": "https://localhost:8080/",
          "height": 812
        },
        "outputId": "c8a30720-60fc-4cc7-deed-bbeb292244fa"
      },
      "cell_type": "code",
      "source": [
        "find_similar('Bully for Brontosaurus', book_weights, n = 5, plot = True)"
      ],
      "execution_count": null,
      "outputs": [
        {
          "output_type": "display_data",
          "data": {
            "text/plain": [
              "<Figure size 1000x800 with 1 Axes>"
            ],
            "image/png": "[encoded data removed]"
          },
          "metadata": {}
        }
      ]
    },
    {
      "metadata": {
        "_uuid": "a74c7a668bf8edb2dd6fb8803f313bbc696492b3",
        "id": "GvhijdsSO0d3"
      },
      "cell_type": "markdown",
      "source": [
        "# Conclusions\n",
        "\n",
        "This notebook demonstrated the development of a book recommendation system using neural network embeddings. The system leverages the principle that books with similar outgoing links are likely to be similar in content. A supervised machine learning approach was employed, training a neural network to classify the presence or absence of links within book articles.\n",
        "\n",
        "The resulting embeddings were analyzed to identify similar books based on their proximity in the embedding space. This analysis involved inspecting the embeddings, visualizing their relationships, and reducing their dimensionality for visualization purposes.\n",
        "\n",
        "The key contributions of this work include:\n",
        "\n",
        "\n",
        "\n",
        "*   Data cleaning and preprocessing for machine learning.\n",
        "\n",
        "\n",
        "*   Formulation of a supervised learning task for embedding generation.\n",
        "\n",
        "*   Training a neural network to learn entity embeddings.\n",
        "\n",
        "\n",
        "\n",
        "*   Evaluation of embeddings for similarity-based recommendations.\n",
        "\n",
        "\n",
        "*  Dimensionality reduction for visualization and analysis.\n",
        "\n",
        "\n",
        "\n",
        "\n",
        "\n",
        "\n",
        "\n",
        "\n",
        "\n",
        "This project demonstrates the potential of neural network embeddings for building effective recommendation systems. Further research could explore the use of external links, infobox information, or other data sources to enhance the system's performance and expand its applicability to other domains.\n",
        "\n",
        "Will"
      ]
    }
  ],
  "metadata": {
    "kernelspec": {
      "display_name": "Python 3",
      "language": "python",
      "name": "python3"
    },
    "language_info": {
      "codemirror_mode": {
        "name": "ipython",
        "version": 3
      },
      "file_extension": ".py",
      "mimetype": "text/x-python",
      "name": "python",
      "nbconvert_exporter": "python",
      "pygments_lexer": "ipython3",
      "version": "3.6.4"
    },
    "colab": {
      "provenance": []
    }
  },
  "nbformat": 4,
  "nbformat_minor": 0
}